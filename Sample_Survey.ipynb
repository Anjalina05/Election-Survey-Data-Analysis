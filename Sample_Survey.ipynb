{
  "nbformat": 4,
  "nbformat_minor": 0,
  "metadata": {
    "colab": {
      "name": " Sample Survey",
      "provenance": [],
      "collapsed_sections": []
    },
    "kernelspec": {
      "name": "python3",
      "display_name": "Python 3"
    },
    "language_info": {
      "name": "python"
    }
  },
  "cells": [
    {
      "cell_type": "code",
      "metadata": {
        "id": "PfJGexXgfnfn"
      },
      "source": [
        "import pandas as pd\n",
        "import re\n",
        "import matplotlib.pyplot as plt\n",
        "import numpy as np\n",
        "import seaborn as sns\n",
        "%matplotlib inline"
      ],
      "execution_count": null,
      "outputs": []
    },
    {
      "cell_type": "markdown",
      "metadata": {
        "id": "vWjFDTYrijeY"
      },
      "source": [
        "**1. Load the dataset into a pandas dataframe. Name the variable as “survey”**"
      ]
    },
    {
      "cell_type": "code",
      "metadata": {
        "id": "65wMln1dh5QX"
      },
      "source": [
        "survey = pd.read_excel(\"/content/Sample_Survey.xlsx\")\n"
      ],
      "execution_count": null,
      "outputs": []
    },
    {
      "cell_type": "code",
      "metadata": {
        "id": "94hWnvbClgNO"
      },
      "source": [
        "df = pd.DataFrame(survey)"
      ],
      "execution_count": null,
      "outputs": []
    },
    {
      "cell_type": "code",
      "metadata": {
        "colab": {
          "base_uri": "https://localhost:8080/",
          "height": 462
        },
        "id": "sBOl8iaKiN0V",
        "outputId": "2ee90fd1-732a-4bfb-848c-2a63e08e5809"
      },
      "source": [
        "survey.head()"
      ],
      "execution_count": null,
      "outputs": [
        {
          "output_type": "execute_result",
          "data": {
            "text/html": [
              "<div>\n",
              "<style scoped>\n",
              "    .dataframe tbody tr th:only-of-type {\n",
              "        vertical-align: middle;\n",
              "    }\n",
              "\n",
              "    .dataframe tbody tr th {\n",
              "        vertical-align: top;\n",
              "    }\n",
              "\n",
              "    .dataframe thead th {\n",
              "        text-align: right;\n",
              "    }\n",
              "</style>\n",
              "<table border=\"1\" class=\"dataframe\">\n",
              "  <thead>\n",
              "    <tr style=\"text-align: right;\">\n",
              "      <th></th>\n",
              "      <th>response_id</th>\n",
              "      <th>collection_date</th>\n",
              "      <th>urban_rural</th>\n",
              "      <th>education</th>\n",
              "      <th>income</th>\n",
              "      <th>Vote_Now</th>\n",
              "      <th>Past_Vote</th>\n",
              "      <th>CM_satisfaction</th>\n",
              "      <th>MLA_satisfaction</th>\n",
              "      <th>age</th>\n",
              "      <th>gender</th>\n",
              "      <th>assembly_no</th>\n",
              "      <th>category</th>\n",
              "      <th>weight</th>\n",
              "    </tr>\n",
              "  </thead>\n",
              "  <tbody>\n",
              "    <tr>\n",
              "      <th>0</th>\n",
              "      <td>1</td>\n",
              "      <td>2020-08-24</td>\n",
              "      <td>Rural</td>\n",
              "      <td>12th Pass</td>\n",
              "      <td>₹ 30,000 - ₹ 50,000</td>\n",
              "      <td>BJP</td>\n",
              "      <td>BJP</td>\n",
              "      <td>Fully Dissatisfied</td>\n",
              "      <td>Fully Dissatisfied</td>\n",
              "      <td>26</td>\n",
              "      <td>Male</td>\n",
              "      <td>211</td>\n",
              "      <td>Gen</td>\n",
              "      <td>0.346969</td>\n",
              "    </tr>\n",
              "    <tr>\n",
              "      <th>1</th>\n",
              "      <td>2</td>\n",
              "      <td>2020-08-24</td>\n",
              "      <td>Rural</td>\n",
              "      <td>Graduate</td>\n",
              "      <td>₹ 20,000 - ₹ 30,000</td>\n",
              "      <td>RLSP</td>\n",
              "      <td>JD(U)</td>\n",
              "      <td>Somewhat Satisfied</td>\n",
              "      <td>Fully Dissatisfied</td>\n",
              "      <td>34</td>\n",
              "      <td>Male</td>\n",
              "      <td>189</td>\n",
              "      <td>BC</td>\n",
              "      <td>0.603419</td>\n",
              "    </tr>\n",
              "    <tr>\n",
              "      <th>2</th>\n",
              "      <td>3</td>\n",
              "      <td>2020-08-24</td>\n",
              "      <td>Rural</td>\n",
              "      <td>Graduate</td>\n",
              "      <td>₹ 5,000 - ₹ 10,000</td>\n",
              "      <td>JAP(L)</td>\n",
              "      <td>BJP</td>\n",
              "      <td>Fully Dissatisfied</td>\n",
              "      <td>Somewhat Satisfied</td>\n",
              "      <td>25</td>\n",
              "      <td>Male</td>\n",
              "      <td>191</td>\n",
              "      <td>Gen</td>\n",
              "      <td>0.673762</td>\n",
              "    </tr>\n",
              "    <tr>\n",
              "      <th>3</th>\n",
              "      <td>4</td>\n",
              "      <td>2020-08-24</td>\n",
              "      <td>Urban</td>\n",
              "      <td>Graduate</td>\n",
              "      <td>₹ 10,000 - ₹ 20,000</td>\n",
              "      <td>RJD</td>\n",
              "      <td>RJD</td>\n",
              "      <td>Fully Dissatisfied</td>\n",
              "      <td>Somewhat Satisfied</td>\n",
              "      <td>36</td>\n",
              "      <td>Male</td>\n",
              "      <td>194</td>\n",
              "      <td>Gen</td>\n",
              "      <td>1.101298</td>\n",
              "    </tr>\n",
              "    <tr>\n",
              "      <th>4</th>\n",
              "      <td>5</td>\n",
              "      <td>2020-08-24</td>\n",
              "      <td>Rural</td>\n",
              "      <td>Graduate</td>\n",
              "      <td>₹ 50,000 - ₹ 80,000</td>\n",
              "      <td>JD(U)</td>\n",
              "      <td>Did not vote</td>\n",
              "      <td>Fully Satisfied</td>\n",
              "      <td>Fully Satisfied</td>\n",
              "      <td>22</td>\n",
              "      <td>Male</td>\n",
              "      <td>176</td>\n",
              "      <td>BC</td>\n",
              "      <td>0.333505</td>\n",
              "    </tr>\n",
              "  </tbody>\n",
              "</table>\n",
              "</div>"
            ],
            "text/plain": [
              "   response_id collection_date urban_rural  ... assembly_no category    weight\n",
              "0            1      2020-08-24       Rural  ...         211      Gen  0.346969\n",
              "1            2      2020-08-24       Rural  ...         189       BC  0.603419\n",
              "2            3      2020-08-24       Rural  ...         191      Gen  0.673762\n",
              "3            4      2020-08-24       Urban  ...         194      Gen  1.101298\n",
              "4            5      2020-08-24       Rural  ...         176       BC  0.333505\n",
              "\n",
              "[5 rows x 14 columns]"
            ]
          },
          "metadata": {
            "tags": []
          },
          "execution_count": 24
        }
      ]
    },
    {
      "cell_type": "markdown",
      "metadata": {
        "id": "bPzJ-d5qip7R"
      },
      "source": [
        "**2. How many samples were collected on each day?**"
      ]
    },
    {
      "cell_type": "code",
      "metadata": {
        "colab": {
          "base_uri": "https://localhost:8080/"
        },
        "id": "VAtXkxF0zmhc",
        "outputId": "17707287-2c6a-4b08-fd80-581bbfe639d5"
      },
      "source": [
        "survey['collection_date'].value_counts()"
      ],
      "execution_count": null,
      "outputs": [
        {
          "output_type": "execute_result",
          "data": {
            "text/plain": [
              "2020-08-24    1479\n",
              "2020-08-25     998\n",
              "2020-08-28     761\n",
              "2020-08-27     665\n",
              "2020-08-29     620\n",
              "2020-09-01     607\n",
              "2020-08-26     598\n",
              "2020-08-30     582\n",
              "2020-08-31     557\n",
              "Name: collection_date, dtype: int64"
            ]
          },
          "metadata": {
            "tags": []
          },
          "execution_count": 25
        }
      ]
    },
    {
      "cell_type": "markdown",
      "metadata": {
        "id": "r_DdyHgN_Nxg"
      },
      "source": [
        "**3.What proportion of the total respondents were aged less than 45?**"
      ]
    },
    {
      "cell_type": "code",
      "metadata": {
        "id": "uTA_US9W_QnJ"
      },
      "source": [
        "age = survey[survey['age'] < 45 ]"
      ],
      "execution_count": null,
      "outputs": []
    },
    {
      "cell_type": "code",
      "metadata": {
        "colab": {
          "base_uri": "https://localhost:8080/"
        },
        "id": "nNLSe63wSVnE",
        "outputId": "375489c8-3b2b-48da-dc5a-b720d081c75f"
      },
      "source": [
        "data = age['age'].value_counts()\n",
        "age_less = data.sum()\n",
        "age_less\n"
      ],
      "execution_count": null,
      "outputs": [
        {
          "output_type": "execute_result",
          "data": {
            "text/plain": [
              "6399"
            ]
          },
          "metadata": {
            "tags": []
          },
          "execution_count": 31
        }
      ]
    },
    {
      "cell_type": "code",
      "metadata": {
        "colab": {
          "base_uri": "https://localhost:8080/"
        },
        "id": "tGzJljPAmS_p",
        "outputId": "ba2ae7fb-09e6-468e-baeb-de1025eafa97"
      },
      "source": [
        "response = survey['response_id'].value_counts()\n",
        "total_response = response.sum()\n",
        "total_response"
      ],
      "execution_count": null,
      "outputs": [
        {
          "output_type": "execute_result",
          "data": {
            "text/plain": [
              "6867"
            ]
          },
          "metadata": {
            "tags": []
          },
          "execution_count": 27
        }
      ]
    },
    {
      "cell_type": "code",
      "metadata": {
        "colab": {
          "base_uri": "https://localhost:8080/"
        },
        "id": "V1tYCyZqSgGJ",
        "outputId": "2c46baf9-67f5-408a-d86e-cd8b2ea28727"
      },
      "source": [
        "#proportion = people whose age is less than 45 / total respondents\n",
        "proportion  = age_less/total_response\n",
        "proportion"
      ],
      "execution_count": null,
      "outputs": [
        {
          "output_type": "execute_result",
          "data": {
            "text/plain": [
              "0.9318479685452162"
            ]
          },
          "metadata": {
            "tags": []
          },
          "execution_count": 32
        }
      ]
    },
    {
      "cell_type": "markdown",
      "metadata": {
        "id": "KJ6B7v_lHFU8"
      },
      "source": [
        "**4.Create a new column in the dataframe “age_group”.**\n",
        "\n"
      ]
    },
    {
      "cell_type": "code",
      "metadata": {
        "colab": {
          "base_uri": "https://localhost:8080/",
          "height": 173
        },
        "id": "f-W7wG9EHQTu",
        "outputId": "b093f92b-72c9-48d5-b1c0-d2f8607768d2"
      },
      "source": [
        "age_group = pd.DataFrame({'response_id':['1','2','3','4'],'age':['26','34','25','66'],'age_group':['25-40','25-40','25-40','55+']})\n",
        "age_group"
      ],
      "execution_count": null,
      "outputs": [
        {
          "output_type": "execute_result",
          "data": {
            "text/html": [
              "<div>\n",
              "<style scoped>\n",
              "    .dataframe tbody tr th:only-of-type {\n",
              "        vertical-align: middle;\n",
              "    }\n",
              "\n",
              "    .dataframe tbody tr th {\n",
              "        vertical-align: top;\n",
              "    }\n",
              "\n",
              "    .dataframe thead th {\n",
              "        text-align: right;\n",
              "    }\n",
              "</style>\n",
              "<table border=\"1\" class=\"dataframe\">\n",
              "  <thead>\n",
              "    <tr style=\"text-align: right;\">\n",
              "      <th></th>\n",
              "      <th>response_id</th>\n",
              "      <th>age</th>\n",
              "      <th>age_group</th>\n",
              "    </tr>\n",
              "  </thead>\n",
              "  <tbody>\n",
              "    <tr>\n",
              "      <th>0</th>\n",
              "      <td>1</td>\n",
              "      <td>26</td>\n",
              "      <td>25-40</td>\n",
              "    </tr>\n",
              "    <tr>\n",
              "      <th>1</th>\n",
              "      <td>2</td>\n",
              "      <td>34</td>\n",
              "      <td>25-40</td>\n",
              "    </tr>\n",
              "    <tr>\n",
              "      <th>2</th>\n",
              "      <td>3</td>\n",
              "      <td>25</td>\n",
              "      <td>25-40</td>\n",
              "    </tr>\n",
              "    <tr>\n",
              "      <th>3</th>\n",
              "      <td>4</td>\n",
              "      <td>66</td>\n",
              "      <td>55+</td>\n",
              "    </tr>\n",
              "  </tbody>\n",
              "</table>\n",
              "</div>"
            ],
            "text/plain": [
              "  response_id age age_group\n",
              "0           1  26     25-40\n",
              "1           2  34     25-40\n",
              "2           3  25     25-40\n",
              "3           4  66       55+"
            ]
          },
          "metadata": {
            "tags": []
          },
          "execution_count": 33
        }
      ]
    },
    {
      "cell_type": "markdown",
      "metadata": {
        "id": "-5MUHCHXNOqS"
      },
      "source": [
        "**5. How many samples were collected for each age-group? Which age-group had the most samples?**"
      ]
    },
    {
      "cell_type": "code",
      "metadata": {
        "colab": {
          "base_uri": "https://localhost:8080/"
        },
        "id": "3z60WxcMGGos",
        "outputId": "d06ddc3a-e849-4d8f-da17-2b7a1ae51902"
      },
      "source": [
        "survey['age'].max()"
      ],
      "execution_count": null,
      "outputs": [
        {
          "output_type": "execute_result",
          "data": {
            "text/plain": [
              "99"
            ]
          },
          "metadata": {
            "tags": []
          },
          "execution_count": 34
        }
      ]
    },
    {
      "cell_type": "code",
      "metadata": {
        "colab": {
          "base_uri": "https://localhost:8080/"
        },
        "id": "5Rwtev8LGL19",
        "outputId": "c5a73ded-a4fc-4698-ed5f-cd63db436d8d"
      },
      "source": [
        "survey['age'].min()"
      ],
      "execution_count": null,
      "outputs": [
        {
          "output_type": "execute_result",
          "data": {
            "text/plain": [
              "18"
            ]
          },
          "metadata": {
            "tags": []
          },
          "execution_count": 291
        }
      ]
    },
    {
      "cell_type": "code",
      "metadata": {
        "colab": {
          "base_uri": "https://localhost:8080/"
        },
        "id": "TseCz8Or_v9n",
        "outputId": "372a6edc-7b99-4c0d-a8be-cf2957176ada"
      },
      "source": [
        "age_group = pd.cut(survey['age'] , bins = [18,25,40,55,99] , labels = ['18-25','25-40','40-55','55-99'])\n",
        "age_group"
      ],
      "execution_count": null,
      "outputs": [
        {
          "output_type": "execute_result",
          "data": {
            "text/plain": [
              "0       25-40\n",
              "1       25-40\n",
              "2       18-25\n",
              "3       25-40\n",
              "4       18-25\n",
              "        ...  \n",
              "6862    18-25\n",
              "6863    25-40\n",
              "6864    18-25\n",
              "6865    18-25\n",
              "6866    25-40\n",
              "Name: age, Length: 6867, dtype: category\n",
              "Categories (4, object): ['18-25' < '25-40' < '40-55' < '55-99']"
            ]
          },
          "metadata": {
            "tags": []
          },
          "execution_count": 35
        }
      ]
    },
    {
      "cell_type": "code",
      "metadata": {
        "colab": {
          "base_uri": "https://localhost:8080/"
        },
        "id": "60g7d9j2GyDU",
        "outputId": "37116619-38f3-40b8-fc32-068fc9dfc320"
      },
      "source": [
        "#samples collected for each age group.\n",
        "age_group.value_counts()"
      ],
      "execution_count": null,
      "outputs": [
        {
          "output_type": "execute_result",
          "data": {
            "text/plain": [
              "25-40    3423\n",
              "18-25    2567\n",
              "40-55     644\n",
              "55-99     108\n",
              "Name: age, dtype: int64"
            ]
          },
          "metadata": {
            "tags": []
          },
          "execution_count": 296
        }
      ]
    },
    {
      "cell_type": "markdown",
      "metadata": {
        "id": "jhi8qlGnYxce"
      },
      "source": [
        "**6. What proportion of the respondents had opted for the RJD party in both the Vote_Now and the Past_Vote questions?**"
      ]
    },
    {
      "cell_type": "code",
      "metadata": {
        "colab": {
          "base_uri": "https://localhost:8080/",
          "height": 309
        },
        "id": "s7fv3qh8Y2eA",
        "outputId": "11ee5496-4f05-4ffc-fdf2-091df0d6dded"
      },
      "source": [
        "data1 = survey[survey['Vote_Now'] == survey['Past_Vote']]\n",
        "data1.head()"
      ],
      "execution_count": null,
      "outputs": [
        {
          "output_type": "execute_result",
          "data": {
            "text/html": [
              "<div>\n",
              "<style scoped>\n",
              "    .dataframe tbody tr th:only-of-type {\n",
              "        vertical-align: middle;\n",
              "    }\n",
              "\n",
              "    .dataframe tbody tr th {\n",
              "        vertical-align: top;\n",
              "    }\n",
              "\n",
              "    .dataframe thead th {\n",
              "        text-align: right;\n",
              "    }\n",
              "</style>\n",
              "<table border=\"1\" class=\"dataframe\">\n",
              "  <thead>\n",
              "    <tr style=\"text-align: right;\">\n",
              "      <th></th>\n",
              "      <th>response_id</th>\n",
              "      <th>collection_date</th>\n",
              "      <th>urban_rural</th>\n",
              "      <th>education</th>\n",
              "      <th>income</th>\n",
              "      <th>Vote_Now</th>\n",
              "      <th>Past_Vote</th>\n",
              "      <th>CM_satisfaction</th>\n",
              "      <th>MLA_satisfaction</th>\n",
              "      <th>age</th>\n",
              "      <th>gender</th>\n",
              "      <th>assembly_no</th>\n",
              "      <th>category</th>\n",
              "      <th>weight</th>\n",
              "    </tr>\n",
              "  </thead>\n",
              "  <tbody>\n",
              "    <tr>\n",
              "      <th>0</th>\n",
              "      <td>1</td>\n",
              "      <td>2020-08-24</td>\n",
              "      <td>Rural</td>\n",
              "      <td>12th Pass</td>\n",
              "      <td>₹ 30,000 - ₹ 50,000</td>\n",
              "      <td>BJP</td>\n",
              "      <td>BJP</td>\n",
              "      <td>Fully Dissatisfied</td>\n",
              "      <td>Fully Dissatisfied</td>\n",
              "      <td>26</td>\n",
              "      <td>Male</td>\n",
              "      <td>211</td>\n",
              "      <td>Gen</td>\n",
              "      <td>0.346969</td>\n",
              "    </tr>\n",
              "    <tr>\n",
              "      <th>3</th>\n",
              "      <td>4</td>\n",
              "      <td>2020-08-24</td>\n",
              "      <td>Urban</td>\n",
              "      <td>Graduate</td>\n",
              "      <td>₹ 10,000 - ₹ 20,000</td>\n",
              "      <td>RJD</td>\n",
              "      <td>RJD</td>\n",
              "      <td>Fully Dissatisfied</td>\n",
              "      <td>Somewhat Satisfied</td>\n",
              "      <td>36</td>\n",
              "      <td>Male</td>\n",
              "      <td>194</td>\n",
              "      <td>Gen</td>\n",
              "      <td>1.101298</td>\n",
              "    </tr>\n",
              "    <tr>\n",
              "      <th>8</th>\n",
              "      <td>9</td>\n",
              "      <td>2020-08-24</td>\n",
              "      <td>Urban</td>\n",
              "      <td>12th Pass</td>\n",
              "      <td>BPL/Below ₹ 5,000</td>\n",
              "      <td>BJP</td>\n",
              "      <td>BJP</td>\n",
              "      <td>Fully Satisfied</td>\n",
              "      <td>Fully Dissatisfied</td>\n",
              "      <td>23</td>\n",
              "      <td>Male</td>\n",
              "      <td>181</td>\n",
              "      <td>Gen</td>\n",
              "      <td>0.226477</td>\n",
              "    </tr>\n",
              "    <tr>\n",
              "      <th>9</th>\n",
              "      <td>10</td>\n",
              "      <td>2020-08-24</td>\n",
              "      <td>Urban</td>\n",
              "      <td>12th Pass</td>\n",
              "      <td>₹ 20,000 - ₹ 30,000</td>\n",
              "      <td>RJD</td>\n",
              "      <td>RJD</td>\n",
              "      <td>Fully Dissatisfied</td>\n",
              "      <td>Fully Dissatisfied</td>\n",
              "      <td>26</td>\n",
              "      <td>Male</td>\n",
              "      <td>181</td>\n",
              "      <td>BC</td>\n",
              "      <td>0.713059</td>\n",
              "    </tr>\n",
              "    <tr>\n",
              "      <th>10</th>\n",
              "      <td>11</td>\n",
              "      <td>2020-08-24</td>\n",
              "      <td>Urban</td>\n",
              "      <td>12th Pass</td>\n",
              "      <td>₹ 5,000 - ₹ 10,000</td>\n",
              "      <td>BJP</td>\n",
              "      <td>BJP</td>\n",
              "      <td>Somewhat Satisfied</td>\n",
              "      <td>Somewhat Dissatisfied</td>\n",
              "      <td>38</td>\n",
              "      <td>Male</td>\n",
              "      <td>181</td>\n",
              "      <td>EBC</td>\n",
              "      <td>3.850583</td>\n",
              "    </tr>\n",
              "  </tbody>\n",
              "</table>\n",
              "</div>"
            ],
            "text/plain": [
              "    response_id collection_date urban_rural  ... assembly_no category    weight\n",
              "0             1      2020-08-24       Rural  ...         211      Gen  0.346969\n",
              "3             4      2020-08-24       Urban  ...         194      Gen  1.101298\n",
              "8             9      2020-08-24       Urban  ...         181      Gen  0.226477\n",
              "9            10      2020-08-24       Urban  ...         181       BC  0.713059\n",
              "10           11      2020-08-24       Urban  ...         181      EBC  3.850583\n",
              "\n",
              "[5 rows x 14 columns]"
            ]
          },
          "metadata": {
            "tags": []
          },
          "execution_count": 36
        }
      ]
    },
    {
      "cell_type": "code",
      "metadata": {
        "id": "j6hLhhDbZhMz"
      },
      "source": [
        "final = data1[data1[data1['Vote_Now'] == data1['Past_Vote']]== 'RJD']\n",
        "past_vote = final['Past_Vote'].value_counts()\n",
        "vote_now = final['Vote_Now'].value_counts()"
      ],
      "execution_count": null,
      "outputs": []
    },
    {
      "cell_type": "code",
      "metadata": {
        "colab": {
          "base_uri": "https://localhost:8080/"
        },
        "id": "nSxr1nLCjFyo",
        "outputId": "ba9514fa-5976-4918-c791-58f550f50584"
      },
      "source": [
        "past_vote"
      ],
      "execution_count": null,
      "outputs": [
        {
          "output_type": "execute_result",
          "data": {
            "text/plain": [
              "RJD    811\n",
              "Name: Past_Vote, dtype: int64"
            ]
          },
          "metadata": {
            "tags": []
          },
          "execution_count": 199
        }
      ]
    },
    {
      "cell_type": "code",
      "metadata": {
        "colab": {
          "base_uri": "https://localhost:8080/"
        },
        "id": "o15gmS-ljIUH",
        "outputId": "b03400b5-09e9-42d6-e67b-f1e2bf88ef61"
      },
      "source": [
        "vote_now"
      ],
      "execution_count": null,
      "outputs": [
        {
          "output_type": "execute_result",
          "data": {
            "text/plain": [
              "RJD    811\n",
              "Name: Vote_Now, dtype: int64"
            ]
          },
          "metadata": {
            "tags": []
          },
          "execution_count": 200
        }
      ]
    },
    {
      "cell_type": "code",
      "metadata": {
        "colab": {
          "base_uri": "https://localhost:8080/"
        },
        "id": "Ve230jygjOm-",
        "outputId": "bd4dbb80-e6a5-4415-dfa8-8acaf85ade26"
      },
      "source": [
        "#proportion  = RJD party in both Past_Vote and Vote_Now / total respondents\n",
        "proportion1 = past_vote/total_response\n",
        "proportion2 = vote_now/total_response\n",
        "proportion1 ,  proportion2"
      ],
      "execution_count": null,
      "outputs": [
        {
          "output_type": "execute_result",
          "data": {
            "text/plain": [
              "(RJD    0.118101\n",
              " Name: Past_Vote, dtype: float64, RJD    0.118101\n",
              " Name: Vote_Now, dtype: float64)"
            ]
          },
          "metadata": {
            "tags": []
          },
          "execution_count": 38
        }
      ]
    },
    {
      "cell_type": "markdown",
      "metadata": {
        "id": "XpuXpBLPkiFR"
      },
      "source": [
        "**7. For each day of sample collection, determine the proportion of respondents who were fully satisfied with the performance of the CM. So if there were a total of 1000 samples on day 1 and 300 out of those said they were fully satisfied, then our answer for that day would be 0.3**"
      ]
    },
    {
      "cell_type": "code",
      "metadata": {
        "colab": {
          "base_uri": "https://localhost:8080/",
          "height": 309
        },
        "id": "BF4DcI97kpvc",
        "outputId": "2a5cd859-6bcf-434c-8d86-a95312ae47d1"
      },
      "source": [
        "CM_Satisfy = survey[survey['CM_satisfaction'] == 'Fully Satisfied']\n",
        "CM_Satisfy.head(5)"
      ],
      "execution_count": null,
      "outputs": [
        {
          "output_type": "execute_result",
          "data": {
            "text/html": [
              "<div>\n",
              "<style scoped>\n",
              "    .dataframe tbody tr th:only-of-type {\n",
              "        vertical-align: middle;\n",
              "    }\n",
              "\n",
              "    .dataframe tbody tr th {\n",
              "        vertical-align: top;\n",
              "    }\n",
              "\n",
              "    .dataframe thead th {\n",
              "        text-align: right;\n",
              "    }\n",
              "</style>\n",
              "<table border=\"1\" class=\"dataframe\">\n",
              "  <thead>\n",
              "    <tr style=\"text-align: right;\">\n",
              "      <th></th>\n",
              "      <th>response_id</th>\n",
              "      <th>collection_date</th>\n",
              "      <th>urban_rural</th>\n",
              "      <th>education</th>\n",
              "      <th>income</th>\n",
              "      <th>Vote_Now</th>\n",
              "      <th>Past_Vote</th>\n",
              "      <th>CM_satisfaction</th>\n",
              "      <th>MLA_satisfaction</th>\n",
              "      <th>age</th>\n",
              "      <th>gender</th>\n",
              "      <th>assembly_no</th>\n",
              "      <th>category</th>\n",
              "      <th>weight</th>\n",
              "    </tr>\n",
              "  </thead>\n",
              "  <tbody>\n",
              "    <tr>\n",
              "      <th>4</th>\n",
              "      <td>5</td>\n",
              "      <td>2020-08-24</td>\n",
              "      <td>Rural</td>\n",
              "      <td>Graduate</td>\n",
              "      <td>₹ 50,000 - ₹ 80,000</td>\n",
              "      <td>JD(U)</td>\n",
              "      <td>Did not vote</td>\n",
              "      <td>Fully Satisfied</td>\n",
              "      <td>Fully Satisfied</td>\n",
              "      <td>22</td>\n",
              "      <td>Male</td>\n",
              "      <td>176</td>\n",
              "      <td>BC</td>\n",
              "      <td>0.333505</td>\n",
              "    </tr>\n",
              "    <tr>\n",
              "      <th>8</th>\n",
              "      <td>9</td>\n",
              "      <td>2020-08-24</td>\n",
              "      <td>Urban</td>\n",
              "      <td>12th Pass</td>\n",
              "      <td>BPL/Below ₹ 5,000</td>\n",
              "      <td>BJP</td>\n",
              "      <td>BJP</td>\n",
              "      <td>Fully Satisfied</td>\n",
              "      <td>Fully Dissatisfied</td>\n",
              "      <td>23</td>\n",
              "      <td>Male</td>\n",
              "      <td>181</td>\n",
              "      <td>Gen</td>\n",
              "      <td>0.226477</td>\n",
              "    </tr>\n",
              "    <tr>\n",
              "      <th>14</th>\n",
              "      <td>15</td>\n",
              "      <td>2020-08-24</td>\n",
              "      <td>Rural</td>\n",
              "      <td>Graduate</td>\n",
              "      <td>₹ 1,50,000 &amp; above</td>\n",
              "      <td>BJP</td>\n",
              "      <td>BJP</td>\n",
              "      <td>Fully Satisfied</td>\n",
              "      <td>Fully Dissatisfied</td>\n",
              "      <td>24</td>\n",
              "      <td>Male</td>\n",
              "      <td>199</td>\n",
              "      <td>Gen</td>\n",
              "      <td>0.226477</td>\n",
              "    </tr>\n",
              "    <tr>\n",
              "      <th>17</th>\n",
              "      <td>18</td>\n",
              "      <td>2020-08-24</td>\n",
              "      <td>Urban</td>\n",
              "      <td>Graduate</td>\n",
              "      <td>₹ 5,000 - ₹ 10,000</td>\n",
              "      <td>BJP</td>\n",
              "      <td>BJP</td>\n",
              "      <td>Fully Satisfied</td>\n",
              "      <td>Fully Dissatisfied</td>\n",
              "      <td>39</td>\n",
              "      <td>Male</td>\n",
              "      <td>200</td>\n",
              "      <td>Gen</td>\n",
              "      <td>0.181242</td>\n",
              "    </tr>\n",
              "    <tr>\n",
              "      <th>28</th>\n",
              "      <td>29</td>\n",
              "      <td>2020-08-24</td>\n",
              "      <td>Rural</td>\n",
              "      <td>Graduate</td>\n",
              "      <td>₹ 20,000 - ₹ 30,000</td>\n",
              "      <td>JD(U)</td>\n",
              "      <td>BJP</td>\n",
              "      <td>Fully Satisfied</td>\n",
              "      <td>Fully Satisfied</td>\n",
              "      <td>44</td>\n",
              "      <td>Male</td>\n",
              "      <td>205</td>\n",
              "      <td>BC</td>\n",
              "      <td>1.337935</td>\n",
              "    </tr>\n",
              "  </tbody>\n",
              "</table>\n",
              "</div>"
            ],
            "text/plain": [
              "    response_id collection_date urban_rural  ... assembly_no category    weight\n",
              "4             5      2020-08-24       Rural  ...         176       BC  0.333505\n",
              "8             9      2020-08-24       Urban  ...         181      Gen  0.226477\n",
              "14           15      2020-08-24       Rural  ...         199      Gen  0.226477\n",
              "17           18      2020-08-24       Urban  ...         200      Gen  0.181242\n",
              "28           29      2020-08-24       Rural  ...         205       BC  1.337935\n",
              "\n",
              "[5 rows x 14 columns]"
            ]
          },
          "metadata": {
            "tags": []
          },
          "execution_count": 39
        }
      ]
    },
    {
      "cell_type": "code",
      "metadata": {
        "colab": {
          "base_uri": "https://localhost:8080/"
        },
        "id": "KTPzHHoLlahU",
        "outputId": "34578006-e51e-4dc5-af4d-797846c28e52"
      },
      "source": [
        "fully_satisfy = CM_Satisfy['CM_satisfaction'].value_counts()\n",
        "fully_satisfy"
      ],
      "execution_count": null,
      "outputs": [
        {
          "output_type": "execute_result",
          "data": {
            "text/plain": [
              "Fully Satisfied    721\n",
              "Name: CM_satisfaction, dtype: int64"
            ]
          },
          "metadata": {
            "tags": []
          },
          "execution_count": 236
        }
      ]
    },
    {
      "cell_type": "code",
      "metadata": {
        "colab": {
          "base_uri": "https://localhost:8080/"
        },
        "id": "Uasmt81Yl-s2",
        "outputId": "8d4912ca-2c7d-4e4a-b036-1b72387b3354"
      },
      "source": [
        "#proportion = fully satified respondents / total respondents\n",
        "proportion = fully_satisfy/total_response\n",
        "proportion"
      ],
      "execution_count": null,
      "outputs": [
        {
          "output_type": "execute_result",
          "data": {
            "text/plain": [
              "Fully Satisfied    0.104995\n",
              "Name: CM_satisfaction, dtype: float64"
            ]
          },
          "metadata": {
            "tags": []
          },
          "execution_count": 234
        }
      ]
    },
    {
      "cell_type": "markdown",
      "metadata": {
        "id": "xAA_OFK6pm_N"
      },
      "source": [
        "**8. In a similar fashion create a day-wise proportion of respondents that opted fully dissatisfied with their MLA Create a line plot of the result with date on x axis and\n",
        "proportions on the y axis.** \n"
      ]
    },
    {
      "cell_type": "code",
      "metadata": {
        "colab": {
          "base_uri": "https://localhost:8080/",
          "height": 309
        },
        "id": "fsOe2K7VqHNW",
        "outputId": "168bee9a-e37b-4163-e285-66023634e094"
      },
      "source": [
        "MLA_Satisfy = survey[survey['MLA_satisfaction'] == 'Fully Dissatisfied']\n",
        "MLA_Satisfy.head()"
      ],
      "execution_count": null,
      "outputs": [
        {
          "output_type": "execute_result",
          "data": {
            "text/html": [
              "<div>\n",
              "<style scoped>\n",
              "    .dataframe tbody tr th:only-of-type {\n",
              "        vertical-align: middle;\n",
              "    }\n",
              "\n",
              "    .dataframe tbody tr th {\n",
              "        vertical-align: top;\n",
              "    }\n",
              "\n",
              "    .dataframe thead th {\n",
              "        text-align: right;\n",
              "    }\n",
              "</style>\n",
              "<table border=\"1\" class=\"dataframe\">\n",
              "  <thead>\n",
              "    <tr style=\"text-align: right;\">\n",
              "      <th></th>\n",
              "      <th>response_id</th>\n",
              "      <th>collection_date</th>\n",
              "      <th>urban_rural</th>\n",
              "      <th>education</th>\n",
              "      <th>income</th>\n",
              "      <th>Vote_Now</th>\n",
              "      <th>Past_Vote</th>\n",
              "      <th>CM_satisfaction</th>\n",
              "      <th>MLA_satisfaction</th>\n",
              "      <th>age</th>\n",
              "      <th>gender</th>\n",
              "      <th>assembly_no</th>\n",
              "      <th>category</th>\n",
              "      <th>weight</th>\n",
              "    </tr>\n",
              "  </thead>\n",
              "  <tbody>\n",
              "    <tr>\n",
              "      <th>0</th>\n",
              "      <td>1</td>\n",
              "      <td>2020-08-24</td>\n",
              "      <td>Rural</td>\n",
              "      <td>12th Pass</td>\n",
              "      <td>₹ 30,000 - ₹ 50,000</td>\n",
              "      <td>BJP</td>\n",
              "      <td>BJP</td>\n",
              "      <td>Fully Dissatisfied</td>\n",
              "      <td>Fully Dissatisfied</td>\n",
              "      <td>26</td>\n",
              "      <td>Male</td>\n",
              "      <td>211</td>\n",
              "      <td>Gen</td>\n",
              "      <td>0.346969</td>\n",
              "    </tr>\n",
              "    <tr>\n",
              "      <th>1</th>\n",
              "      <td>2</td>\n",
              "      <td>2020-08-24</td>\n",
              "      <td>Rural</td>\n",
              "      <td>Graduate</td>\n",
              "      <td>₹ 20,000 - ₹ 30,000</td>\n",
              "      <td>RLSP</td>\n",
              "      <td>JD(U)</td>\n",
              "      <td>Somewhat Satisfied</td>\n",
              "      <td>Fully Dissatisfied</td>\n",
              "      <td>34</td>\n",
              "      <td>Male</td>\n",
              "      <td>189</td>\n",
              "      <td>BC</td>\n",
              "      <td>0.603419</td>\n",
              "    </tr>\n",
              "    <tr>\n",
              "      <th>5</th>\n",
              "      <td>6</td>\n",
              "      <td>2020-08-24</td>\n",
              "      <td>Urban</td>\n",
              "      <td>Graduate</td>\n",
              "      <td>₹ 20,000 - ₹ 30,000</td>\n",
              "      <td>Others</td>\n",
              "      <td>BJP</td>\n",
              "      <td>Somewhat Satisfied</td>\n",
              "      <td>Fully Dissatisfied</td>\n",
              "      <td>38</td>\n",
              "      <td>Male</td>\n",
              "      <td>178</td>\n",
              "      <td>Gen</td>\n",
              "      <td>0.382603</td>\n",
              "    </tr>\n",
              "    <tr>\n",
              "      <th>6</th>\n",
              "      <td>7</td>\n",
              "      <td>2020-08-24</td>\n",
              "      <td>Urban</td>\n",
              "      <td>Graduate</td>\n",
              "      <td>BPL/Below ₹ 5,000</td>\n",
              "      <td>RJD</td>\n",
              "      <td>BJP</td>\n",
              "      <td>Fully Dissatisfied</td>\n",
              "      <td>Fully Dissatisfied</td>\n",
              "      <td>34</td>\n",
              "      <td>Male</td>\n",
              "      <td>172</td>\n",
              "      <td>BC</td>\n",
              "      <td>0.521283</td>\n",
              "    </tr>\n",
              "    <tr>\n",
              "      <th>8</th>\n",
              "      <td>9</td>\n",
              "      <td>2020-08-24</td>\n",
              "      <td>Urban</td>\n",
              "      <td>12th Pass</td>\n",
              "      <td>BPL/Below ₹ 5,000</td>\n",
              "      <td>BJP</td>\n",
              "      <td>BJP</td>\n",
              "      <td>Fully Satisfied</td>\n",
              "      <td>Fully Dissatisfied</td>\n",
              "      <td>23</td>\n",
              "      <td>Male</td>\n",
              "      <td>181</td>\n",
              "      <td>Gen</td>\n",
              "      <td>0.226477</td>\n",
              "    </tr>\n",
              "  </tbody>\n",
              "</table>\n",
              "</div>"
            ],
            "text/plain": [
              "   response_id collection_date urban_rural  ... assembly_no category    weight\n",
              "0            1      2020-08-24       Rural  ...         211      Gen  0.346969\n",
              "1            2      2020-08-24       Rural  ...         189       BC  0.603419\n",
              "5            6      2020-08-24       Urban  ...         178      Gen  0.382603\n",
              "6            7      2020-08-24       Urban  ...         172       BC  0.521283\n",
              "8            9      2020-08-24       Urban  ...         181      Gen  0.226477\n",
              "\n",
              "[5 rows x 14 columns]"
            ]
          },
          "metadata": {
            "tags": []
          },
          "execution_count": 40
        }
      ]
    },
    {
      "cell_type": "code",
      "metadata": {
        "colab": {
          "base_uri": "https://localhost:8080/"
        },
        "id": "hQXctOsXq9w-",
        "outputId": "701fb981-167b-4923-b8d2-7c60e92afe38"
      },
      "source": [
        "fully_disatisfy = MLA_Satisfy['MLA_satisfaction'].value_counts()\n",
        "fully_disatisfy"
      ],
      "execution_count": null,
      "outputs": [
        {
          "output_type": "execute_result",
          "data": {
            "text/plain": [
              "Fully Dissatisfied    4152\n",
              "Name: MLA_satisfaction, dtype: int64"
            ]
          },
          "metadata": {
            "tags": []
          },
          "execution_count": 239
        }
      ]
    },
    {
      "cell_type": "code",
      "metadata": {
        "colab": {
          "base_uri": "https://localhost:8080/"
        },
        "id": "Dpe0rL4YrKYu",
        "outputId": "8a574428-2972-423d-ce28-16b2f3ff0333"
      },
      "source": [
        "#proportion = fully dissatified respondents / total respondents\n",
        "proportion = fully_disatisfy/total_response\n",
        "proportion"
      ],
      "execution_count": null,
      "outputs": [
        {
          "output_type": "execute_result",
          "data": {
            "text/plain": [
              "Fully Dissatisfied    0.604631\n",
              "Name: MLA_satisfaction, dtype: float64"
            ]
          },
          "metadata": {
            "tags": []
          },
          "execution_count": 240
        }
      ]
    },
    {
      "cell_type": "code",
      "metadata": {
        "colab": {
          "base_uri": "https://localhost:8080/",
          "height": 313
        },
        "id": "qGiZYY7Frk71",
        "outputId": "cc8d626e-8b6a-4c6b-fd76-62cc73422d49"
      },
      "source": [
        "sns.lineplot(x = 'collection_date' , y = 'MLA_satisfaction' , data = MLA_Satisfy).set_title(\"MLA fully dissatisfied\")"
      ],
      "execution_count": null,
      "outputs": [
        {
          "output_type": "execute_result",
          "data": {
            "text/plain": [
              "Text(0.5, 1.0, 'MLA fully dissatisfied')"
            ]
          },
          "metadata": {
            "tags": []
          },
          "execution_count": 41
        },
        {
          "output_type": "display_data",
          "data": {
            "image/png": "[encoded data removed]",
            "text/plain": [
              "<Figure size 432x288 with 1 Axes>"
            ]
          },
          "metadata": {
            "tags": [],
            "needs_background": "light"
          }
        }
      ]
    },
    {
      "cell_type": "markdown",
      "metadata": {
        "id": "OhhprmP3ykUM"
      },
      "source": [
        "**9. Create a pivot-table (or crosstab) with index as Past_Vote, Column as Vote_Now and cell values as the count of samples**"
      ]
    },
    {
      "cell_type": "code",
      "metadata": {
        "colab": {
          "base_uri": "https://localhost:8080/",
          "height": 475
        },
        "id": "UpvIAFe5yo1u",
        "outputId": "bcf8dc43-0045-4ea9-95af-c3fadc2d1ae3"
      },
      "source": [
        "table = pd.pivot_table(data=survey,values=['response_id'],index=['Past_Vote'], columns=['Vote_Now'],aggfunc={'response_id':'count'})\n",
        "table.head(10)"
      ],
      "execution_count": null,
      "outputs": [
        {
          "output_type": "execute_result",
          "data": {
            "text/html": [
              "<div>\n",
              "<style scoped>\n",
              "    .dataframe tbody tr th:only-of-type {\n",
              "        vertical-align: middle;\n",
              "    }\n",
              "\n",
              "    .dataframe tbody tr th {\n",
              "        vertical-align: top;\n",
              "    }\n",
              "\n",
              "    .dataframe thead tr th {\n",
              "        text-align: left;\n",
              "    }\n",
              "\n",
              "    .dataframe thead tr:last-of-type th {\n",
              "        text-align: right;\n",
              "    }\n",
              "</style>\n",
              "<table border=\"1\" class=\"dataframe\">\n",
              "  <thead>\n",
              "    <tr>\n",
              "      <th></th>\n",
              "      <th colspan=\"18\" halign=\"left\">response_id</th>\n",
              "    </tr>\n",
              "    <tr>\n",
              "      <th>Vote_Now</th>\n",
              "      <th>AAP</th>\n",
              "      <th>AIMIM</th>\n",
              "      <th>BJP</th>\n",
              "      <th>BSP</th>\n",
              "      <th>HAM</th>\n",
              "      <th>INC</th>\n",
              "      <th>JAP(L)</th>\n",
              "      <th>JD(U)</th>\n",
              "      <th>LJP</th>\n",
              "      <th>Left Front</th>\n",
              "      <th>NOTA</th>\n",
              "      <th>Others</th>\n",
              "      <th>Plurals</th>\n",
              "      <th>RJD</th>\n",
              "      <th>RJJP</th>\n",
              "      <th>RLSP</th>\n",
              "      <th>Undecided</th>\n",
              "      <th>VIP</th>\n",
              "    </tr>\n",
              "    <tr>\n",
              "      <th>Past_Vote</th>\n",
              "      <th></th>\n",
              "      <th></th>\n",
              "      <th></th>\n",
              "      <th></th>\n",
              "      <th></th>\n",
              "      <th></th>\n",
              "      <th></th>\n",
              "      <th></th>\n",
              "      <th></th>\n",
              "      <th></th>\n",
              "      <th></th>\n",
              "      <th></th>\n",
              "      <th></th>\n",
              "      <th></th>\n",
              "      <th></th>\n",
              "      <th></th>\n",
              "      <th></th>\n",
              "      <th></th>\n",
              "    </tr>\n",
              "  </thead>\n",
              "  <tbody>\n",
              "    <tr>\n",
              "      <th>BJP</th>\n",
              "      <td>7.0</td>\n",
              "      <td>1.0</td>\n",
              "      <td>1630.0</td>\n",
              "      <td>3.0</td>\n",
              "      <td>5.0</td>\n",
              "      <td>42.0</td>\n",
              "      <td>101.0</td>\n",
              "      <td>110.0</td>\n",
              "      <td>44.0</td>\n",
              "      <td>13.0</td>\n",
              "      <td>194.0</td>\n",
              "      <td>32.0</td>\n",
              "      <td>87.0</td>\n",
              "      <td>370.0</td>\n",
              "      <td>88.0</td>\n",
              "      <td>24.0</td>\n",
              "      <td>62.0</td>\n",
              "      <td>10.0</td>\n",
              "    </tr>\n",
              "    <tr>\n",
              "      <th>BSP</th>\n",
              "      <td>NaN</td>\n",
              "      <td>1.0</td>\n",
              "      <td>2.0</td>\n",
              "      <td>5.0</td>\n",
              "      <td>NaN</td>\n",
              "      <td>1.0</td>\n",
              "      <td>NaN</td>\n",
              "      <td>NaN</td>\n",
              "      <td>NaN</td>\n",
              "      <td>NaN</td>\n",
              "      <td>NaN</td>\n",
              "      <td>NaN</td>\n",
              "      <td>NaN</td>\n",
              "      <td>NaN</td>\n",
              "      <td>NaN</td>\n",
              "      <td>NaN</td>\n",
              "      <td>NaN</td>\n",
              "      <td>NaN</td>\n",
              "    </tr>\n",
              "    <tr>\n",
              "      <th>Did not vote</th>\n",
              "      <td>8.0</td>\n",
              "      <td>5.0</td>\n",
              "      <td>231.0</td>\n",
              "      <td>2.0</td>\n",
              "      <td>1.0</td>\n",
              "      <td>22.0</td>\n",
              "      <td>41.0</td>\n",
              "      <td>69.0</td>\n",
              "      <td>10.0</td>\n",
              "      <td>16.0</td>\n",
              "      <td>83.0</td>\n",
              "      <td>11.0</td>\n",
              "      <td>51.0</td>\n",
              "      <td>195.0</td>\n",
              "      <td>20.0</td>\n",
              "      <td>3.0</td>\n",
              "      <td>31.0</td>\n",
              "      <td>5.0</td>\n",
              "    </tr>\n",
              "    <tr>\n",
              "      <th>HAM</th>\n",
              "      <td>2.0</td>\n",
              "      <td>NaN</td>\n",
              "      <td>25.0</td>\n",
              "      <td>NaN</td>\n",
              "      <td>1.0</td>\n",
              "      <td>NaN</td>\n",
              "      <td>3.0</td>\n",
              "      <td>2.0</td>\n",
              "      <td>2.0</td>\n",
              "      <td>NaN</td>\n",
              "      <td>4.0</td>\n",
              "      <td>NaN</td>\n",
              "      <td>NaN</td>\n",
              "      <td>6.0</td>\n",
              "      <td>4.0</td>\n",
              "      <td>NaN</td>\n",
              "      <td>1.0</td>\n",
              "      <td>NaN</td>\n",
              "    </tr>\n",
              "    <tr>\n",
              "      <th>INC</th>\n",
              "      <td>NaN</td>\n",
              "      <td>6.0</td>\n",
              "      <td>6.0</td>\n",
              "      <td>NaN</td>\n",
              "      <td>NaN</td>\n",
              "      <td>57.0</td>\n",
              "      <td>10.0</td>\n",
              "      <td>9.0</td>\n",
              "      <td>NaN</td>\n",
              "      <td>3.0</td>\n",
              "      <td>6.0</td>\n",
              "      <td>3.0</td>\n",
              "      <td>3.0</td>\n",
              "      <td>100.0</td>\n",
              "      <td>1.0</td>\n",
              "      <td>2.0</td>\n",
              "      <td>7.0</td>\n",
              "      <td>NaN</td>\n",
              "    </tr>\n",
              "    <tr>\n",
              "      <th>JAP(L)</th>\n",
              "      <td>NaN</td>\n",
              "      <td>NaN</td>\n",
              "      <td>4.0</td>\n",
              "      <td>NaN</td>\n",
              "      <td>NaN</td>\n",
              "      <td>NaN</td>\n",
              "      <td>35.0</td>\n",
              "      <td>NaN</td>\n",
              "      <td>NaN</td>\n",
              "      <td>NaN</td>\n",
              "      <td>NaN</td>\n",
              "      <td>1.0</td>\n",
              "      <td>NaN</td>\n",
              "      <td>2.0</td>\n",
              "      <td>NaN</td>\n",
              "      <td>NaN</td>\n",
              "      <td>NaN</td>\n",
              "      <td>NaN</td>\n",
              "    </tr>\n",
              "    <tr>\n",
              "      <th>JD(U)</th>\n",
              "      <td>6.0</td>\n",
              "      <td>10.0</td>\n",
              "      <td>254.0</td>\n",
              "      <td>2.0</td>\n",
              "      <td>2.0</td>\n",
              "      <td>45.0</td>\n",
              "      <td>72.0</td>\n",
              "      <td>279.0</td>\n",
              "      <td>29.0</td>\n",
              "      <td>9.0</td>\n",
              "      <td>90.0</td>\n",
              "      <td>18.0</td>\n",
              "      <td>43.0</td>\n",
              "      <td>435.0</td>\n",
              "      <td>13.0</td>\n",
              "      <td>25.0</td>\n",
              "      <td>36.0</td>\n",
              "      <td>6.0</td>\n",
              "    </tr>\n",
              "    <tr>\n",
              "      <th>LJP</th>\n",
              "      <td>NaN</td>\n",
              "      <td>NaN</td>\n",
              "      <td>76.0</td>\n",
              "      <td>1.0</td>\n",
              "      <td>NaN</td>\n",
              "      <td>4.0</td>\n",
              "      <td>3.0</td>\n",
              "      <td>6.0</td>\n",
              "      <td>9.0</td>\n",
              "      <td>2.0</td>\n",
              "      <td>3.0</td>\n",
              "      <td>NaN</td>\n",
              "      <td>2.0</td>\n",
              "      <td>17.0</td>\n",
              "      <td>1.0</td>\n",
              "      <td>NaN</td>\n",
              "      <td>1.0</td>\n",
              "      <td>NaN</td>\n",
              "    </tr>\n",
              "    <tr>\n",
              "      <th>Left Front</th>\n",
              "      <td>NaN</td>\n",
              "      <td>1.0</td>\n",
              "      <td>2.0</td>\n",
              "      <td>NaN</td>\n",
              "      <td>NaN</td>\n",
              "      <td>1.0</td>\n",
              "      <td>NaN</td>\n",
              "      <td>NaN</td>\n",
              "      <td>NaN</td>\n",
              "      <td>18.0</td>\n",
              "      <td>1.0</td>\n",
              "      <td>1.0</td>\n",
              "      <td>NaN</td>\n",
              "      <td>4.0</td>\n",
              "      <td>NaN</td>\n",
              "      <td>1.0</td>\n",
              "      <td>NaN</td>\n",
              "      <td>1.0</td>\n",
              "    </tr>\n",
              "    <tr>\n",
              "      <th>NOTA</th>\n",
              "      <td>NaN</td>\n",
              "      <td>1.0</td>\n",
              "      <td>29.0</td>\n",
              "      <td>1.0</td>\n",
              "      <td>NaN</td>\n",
              "      <td>9.0</td>\n",
              "      <td>7.0</td>\n",
              "      <td>7.0</td>\n",
              "      <td>3.0</td>\n",
              "      <td>5.0</td>\n",
              "      <td>46.0</td>\n",
              "      <td>7.0</td>\n",
              "      <td>11.0</td>\n",
              "      <td>27.0</td>\n",
              "      <td>5.0</td>\n",
              "      <td>4.0</td>\n",
              "      <td>5.0</td>\n",
              "      <td>NaN</td>\n",
              "    </tr>\n",
              "  </tbody>\n",
              "</table>\n",
              "</div>"
            ],
            "text/plain": [
              "             response_id                     ...                            \n",
              "Vote_Now             AAP AIMIM     BJP  BSP  ...  RJJP  RLSP Undecided   VIP\n",
              "Past_Vote                                    ...                            \n",
              "BJP                  7.0   1.0  1630.0  3.0  ...  88.0  24.0      62.0  10.0\n",
              "BSP                  NaN   1.0     2.0  5.0  ...   NaN   NaN       NaN   NaN\n",
              "Did not vote         8.0   5.0   231.0  2.0  ...  20.0   3.0      31.0   5.0\n",
              "HAM                  2.0   NaN    25.0  NaN  ...   4.0   NaN       1.0   NaN\n",
              "INC                  NaN   6.0     6.0  NaN  ...   1.0   2.0       7.0   NaN\n",
              "JAP(L)               NaN   NaN     4.0  NaN  ...   NaN   NaN       NaN   NaN\n",
              "JD(U)                6.0  10.0   254.0  2.0  ...  13.0  25.0      36.0   6.0\n",
              "LJP                  NaN   NaN    76.0  1.0  ...   1.0   NaN       1.0   NaN\n",
              "Left Front           NaN   1.0     2.0  NaN  ...   NaN   1.0       NaN   1.0\n",
              "NOTA                 NaN   1.0    29.0  1.0  ...   5.0   4.0       5.0   NaN\n",
              "\n",
              "[10 rows x 18 columns]"
            ]
          },
          "metadata": {
            "tags": []
          },
          "execution_count": 42
        }
      ]
    },
    {
      "cell_type": "markdown",
      "metadata": {
        "id": "MfpMYVYz0D_y"
      },
      "source": [
        "**10. Repeat the above question with the cell values as the sum of “weight”**"
      ]
    },
    {
      "cell_type": "code",
      "metadata": {
        "colab": {
          "base_uri": "https://localhost:8080/",
          "height": 475
        },
        "id": "jor_zKHH0GaY",
        "outputId": "70fa6ae4-6922-4aa8-c9dd-9cc4b7e5a4d4"
      },
      "source": [
        "table = pd.pivot_table(data=survey,index=['Past_Vote'],values=['response_id','weight'],columns=['Vote_Now'],aggfunc={'weight':np.sum,'response_id':'count'})\n",
        "table.head(10)"
      ],
      "execution_count": null,
      "outputs": [
        {
          "output_type": "execute_result",
          "data": {
            "text/html": [
              "<div>\n",
              "<style scoped>\n",
              "    .dataframe tbody tr th:only-of-type {\n",
              "        vertical-align: middle;\n",
              "    }\n",
              "\n",
              "    .dataframe tbody tr th {\n",
              "        vertical-align: top;\n",
              "    }\n",
              "\n",
              "    .dataframe thead tr th {\n",
              "        text-align: left;\n",
              "    }\n",
              "\n",
              "    .dataframe thead tr:last-of-type th {\n",
              "        text-align: right;\n",
              "    }\n",
              "</style>\n",
              "<table border=\"1\" class=\"dataframe\">\n",
              "  <thead>\n",
              "    <tr>\n",
              "      <th></th>\n",
              "      <th colspan=\"18\" halign=\"left\">response_id</th>\n",
              "      <th colspan=\"18\" halign=\"left\">weight</th>\n",
              "    </tr>\n",
              "    <tr>\n",
              "      <th>Vote_Now</th>\n",
              "      <th>AAP</th>\n",
              "      <th>AIMIM</th>\n",
              "      <th>BJP</th>\n",
              "      <th>BSP</th>\n",
              "      <th>HAM</th>\n",
              "      <th>INC</th>\n",
              "      <th>JAP(L)</th>\n",
              "      <th>JD(U)</th>\n",
              "      <th>LJP</th>\n",
              "      <th>Left Front</th>\n",
              "      <th>NOTA</th>\n",
              "      <th>Others</th>\n",
              "      <th>Plurals</th>\n",
              "      <th>RJD</th>\n",
              "      <th>RJJP</th>\n",
              "      <th>RLSP</th>\n",
              "      <th>Undecided</th>\n",
              "      <th>VIP</th>\n",
              "      <th>AAP</th>\n",
              "      <th>AIMIM</th>\n",
              "      <th>BJP</th>\n",
              "      <th>BSP</th>\n",
              "      <th>HAM</th>\n",
              "      <th>INC</th>\n",
              "      <th>JAP(L)</th>\n",
              "      <th>JD(U)</th>\n",
              "      <th>LJP</th>\n",
              "      <th>Left Front</th>\n",
              "      <th>NOTA</th>\n",
              "      <th>Others</th>\n",
              "      <th>Plurals</th>\n",
              "      <th>RJD</th>\n",
              "      <th>RJJP</th>\n",
              "      <th>RLSP</th>\n",
              "      <th>Undecided</th>\n",
              "      <th>VIP</th>\n",
              "    </tr>\n",
              "    <tr>\n",
              "      <th>Past_Vote</th>\n",
              "      <th></th>\n",
              "      <th></th>\n",
              "      <th></th>\n",
              "      <th></th>\n",
              "      <th></th>\n",
              "      <th></th>\n",
              "      <th></th>\n",
              "      <th></th>\n",
              "      <th></th>\n",
              "      <th></th>\n",
              "      <th></th>\n",
              "      <th></th>\n",
              "      <th></th>\n",
              "      <th></th>\n",
              "      <th></th>\n",
              "      <th></th>\n",
              "      <th></th>\n",
              "      <th></th>\n",
              "      <th></th>\n",
              "      <th></th>\n",
              "      <th></th>\n",
              "      <th></th>\n",
              "      <th></th>\n",
              "      <th></th>\n",
              "      <th></th>\n",
              "      <th></th>\n",
              "      <th></th>\n",
              "      <th></th>\n",
              "      <th></th>\n",
              "      <th></th>\n",
              "      <th></th>\n",
              "      <th></th>\n",
              "      <th></th>\n",
              "      <th></th>\n",
              "      <th></th>\n",
              "      <th></th>\n",
              "    </tr>\n",
              "  </thead>\n",
              "  <tbody>\n",
              "    <tr>\n",
              "      <th>BJP</th>\n",
              "      <td>7.0</td>\n",
              "      <td>1.0</td>\n",
              "      <td>1630.0</td>\n",
              "      <td>3.0</td>\n",
              "      <td>5.0</td>\n",
              "      <td>42.0</td>\n",
              "      <td>101.0</td>\n",
              "      <td>110.0</td>\n",
              "      <td>44.0</td>\n",
              "      <td>13.0</td>\n",
              "      <td>194.0</td>\n",
              "      <td>32.0</td>\n",
              "      <td>87.0</td>\n",
              "      <td>370.0</td>\n",
              "      <td>88.0</td>\n",
              "      <td>24.0</td>\n",
              "      <td>62.0</td>\n",
              "      <td>10.0</td>\n",
              "      <td>4.807335</td>\n",
              "      <td>0.349996</td>\n",
              "      <td>1049.344112</td>\n",
              "      <td>0.452551</td>\n",
              "      <td>10.171283</td>\n",
              "      <td>50.055502</td>\n",
              "      <td>63.832368</td>\n",
              "      <td>68.029581</td>\n",
              "      <td>45.716215</td>\n",
              "      <td>7.537394</td>\n",
              "      <td>114.913686</td>\n",
              "      <td>8.790137</td>\n",
              "      <td>50.016163</td>\n",
              "      <td>250.948101</td>\n",
              "      <td>16.047570</td>\n",
              "      <td>18.715113</td>\n",
              "      <td>41.286954</td>\n",
              "      <td>18.691691</td>\n",
              "    </tr>\n",
              "    <tr>\n",
              "      <th>BSP</th>\n",
              "      <td>NaN</td>\n",
              "      <td>1.0</td>\n",
              "      <td>2.0</td>\n",
              "      <td>5.0</td>\n",
              "      <td>NaN</td>\n",
              "      <td>1.0</td>\n",
              "      <td>NaN</td>\n",
              "      <td>NaN</td>\n",
              "      <td>NaN</td>\n",
              "      <td>NaN</td>\n",
              "      <td>NaN</td>\n",
              "      <td>NaN</td>\n",
              "      <td>NaN</td>\n",
              "      <td>NaN</td>\n",
              "      <td>NaN</td>\n",
              "      <td>NaN</td>\n",
              "      <td>NaN</td>\n",
              "      <td>NaN</td>\n",
              "      <td>NaN</td>\n",
              "      <td>1.654731</td>\n",
              "      <td>5.174487</td>\n",
              "      <td>32.010277</td>\n",
              "      <td>NaN</td>\n",
              "      <td>2.298223</td>\n",
              "      <td>NaN</td>\n",
              "      <td>NaN</td>\n",
              "      <td>NaN</td>\n",
              "      <td>NaN</td>\n",
              "      <td>NaN</td>\n",
              "      <td>NaN</td>\n",
              "      <td>NaN</td>\n",
              "      <td>NaN</td>\n",
              "      <td>NaN</td>\n",
              "      <td>NaN</td>\n",
              "      <td>NaN</td>\n",
              "      <td>NaN</td>\n",
              "    </tr>\n",
              "    <tr>\n",
              "      <th>Did not vote</th>\n",
              "      <td>8.0</td>\n",
              "      <td>5.0</td>\n",
              "      <td>231.0</td>\n",
              "      <td>2.0</td>\n",
              "      <td>1.0</td>\n",
              "      <td>22.0</td>\n",
              "      <td>41.0</td>\n",
              "      <td>69.0</td>\n",
              "      <td>10.0</td>\n",
              "      <td>16.0</td>\n",
              "      <td>83.0</td>\n",
              "      <td>11.0</td>\n",
              "      <td>51.0</td>\n",
              "      <td>195.0</td>\n",
              "      <td>20.0</td>\n",
              "      <td>3.0</td>\n",
              "      <td>31.0</td>\n",
              "      <td>5.0</td>\n",
              "      <td>8.865896</td>\n",
              "      <td>5.379527</td>\n",
              "      <td>114.203906</td>\n",
              "      <td>3.329611</td>\n",
              "      <td>2.497170</td>\n",
              "      <td>27.791290</td>\n",
              "      <td>26.359190</td>\n",
              "      <td>58.983458</td>\n",
              "      <td>11.801813</td>\n",
              "      <td>13.050113</td>\n",
              "      <td>44.725179</td>\n",
              "      <td>7.289933</td>\n",
              "      <td>25.319524</td>\n",
              "      <td>173.882525</td>\n",
              "      <td>4.349832</td>\n",
              "      <td>5.041587</td>\n",
              "      <td>22.015457</td>\n",
              "      <td>10.696552</td>\n",
              "    </tr>\n",
              "    <tr>\n",
              "      <th>HAM</th>\n",
              "      <td>2.0</td>\n",
              "      <td>NaN</td>\n",
              "      <td>25.0</td>\n",
              "      <td>NaN</td>\n",
              "      <td>1.0</td>\n",
              "      <td>NaN</td>\n",
              "      <td>3.0</td>\n",
              "      <td>2.0</td>\n",
              "      <td>2.0</td>\n",
              "      <td>NaN</td>\n",
              "      <td>4.0</td>\n",
              "      <td>NaN</td>\n",
              "      <td>NaN</td>\n",
              "      <td>6.0</td>\n",
              "      <td>4.0</td>\n",
              "      <td>NaN</td>\n",
              "      <td>1.0</td>\n",
              "      <td>NaN</td>\n",
              "      <td>0.312607</td>\n",
              "      <td>NaN</td>\n",
              "      <td>25.348884</td>\n",
              "      <td>NaN</td>\n",
              "      <td>1.648856</td>\n",
              "      <td>NaN</td>\n",
              "      <td>0.712161</td>\n",
              "      <td>1.006719</td>\n",
              "      <td>2.496424</td>\n",
              "      <td>NaN</td>\n",
              "      <td>0.928984</td>\n",
              "      <td>NaN</td>\n",
              "      <td>NaN</td>\n",
              "      <td>7.713008</td>\n",
              "      <td>1.903148</td>\n",
              "      <td>NaN</td>\n",
              "      <td>0.039564</td>\n",
              "      <td>NaN</td>\n",
              "    </tr>\n",
              "    <tr>\n",
              "      <th>INC</th>\n",
              "      <td>NaN</td>\n",
              "      <td>6.0</td>\n",
              "      <td>6.0</td>\n",
              "      <td>NaN</td>\n",
              "      <td>NaN</td>\n",
              "      <td>57.0</td>\n",
              "      <td>10.0</td>\n",
              "      <td>9.0</td>\n",
              "      <td>NaN</td>\n",
              "      <td>3.0</td>\n",
              "      <td>6.0</td>\n",
              "      <td>3.0</td>\n",
              "      <td>3.0</td>\n",
              "      <td>100.0</td>\n",
              "      <td>1.0</td>\n",
              "      <td>2.0</td>\n",
              "      <td>7.0</td>\n",
              "      <td>NaN</td>\n",
              "      <td>NaN</td>\n",
              "      <td>11.105958</td>\n",
              "      <td>1.642875</td>\n",
              "      <td>NaN</td>\n",
              "      <td>NaN</td>\n",
              "      <td>161.742302</td>\n",
              "      <td>18.942597</td>\n",
              "      <td>11.077323</td>\n",
              "      <td>NaN</td>\n",
              "      <td>6.268726</td>\n",
              "      <td>5.999014</td>\n",
              "      <td>1.552038</td>\n",
              "      <td>1.588527</td>\n",
              "      <td>195.020050</td>\n",
              "      <td>5.340403</td>\n",
              "      <td>1.140299</td>\n",
              "      <td>8.558475</td>\n",
              "      <td>NaN</td>\n",
              "    </tr>\n",
              "    <tr>\n",
              "      <th>JAP(L)</th>\n",
              "      <td>NaN</td>\n",
              "      <td>NaN</td>\n",
              "      <td>4.0</td>\n",
              "      <td>NaN</td>\n",
              "      <td>NaN</td>\n",
              "      <td>NaN</td>\n",
              "      <td>35.0</td>\n",
              "      <td>NaN</td>\n",
              "      <td>NaN</td>\n",
              "      <td>NaN</td>\n",
              "      <td>NaN</td>\n",
              "      <td>1.0</td>\n",
              "      <td>NaN</td>\n",
              "      <td>2.0</td>\n",
              "      <td>NaN</td>\n",
              "      <td>NaN</td>\n",
              "      <td>NaN</td>\n",
              "      <td>NaN</td>\n",
              "      <td>NaN</td>\n",
              "      <td>NaN</td>\n",
              "      <td>6.512846</td>\n",
              "      <td>NaN</td>\n",
              "      <td>NaN</td>\n",
              "      <td>NaN</td>\n",
              "      <td>57.876224</td>\n",
              "      <td>NaN</td>\n",
              "      <td>NaN</td>\n",
              "      <td>NaN</td>\n",
              "      <td>NaN</td>\n",
              "      <td>3.195682</td>\n",
              "      <td>NaN</td>\n",
              "      <td>2.164824</td>\n",
              "      <td>NaN</td>\n",
              "      <td>NaN</td>\n",
              "      <td>NaN</td>\n",
              "      <td>NaN</td>\n",
              "    </tr>\n",
              "    <tr>\n",
              "      <th>JD(U)</th>\n",
              "      <td>6.0</td>\n",
              "      <td>10.0</td>\n",
              "      <td>254.0</td>\n",
              "      <td>2.0</td>\n",
              "      <td>2.0</td>\n",
              "      <td>45.0</td>\n",
              "      <td>72.0</td>\n",
              "      <td>279.0</td>\n",
              "      <td>29.0</td>\n",
              "      <td>9.0</td>\n",
              "      <td>90.0</td>\n",
              "      <td>18.0</td>\n",
              "      <td>43.0</td>\n",
              "      <td>435.0</td>\n",
              "      <td>13.0</td>\n",
              "      <td>25.0</td>\n",
              "      <td>36.0</td>\n",
              "      <td>6.0</td>\n",
              "      <td>12.457216</td>\n",
              "      <td>29.198610</td>\n",
              "      <td>156.243100</td>\n",
              "      <td>11.005903</td>\n",
              "      <td>2.639574</td>\n",
              "      <td>91.806261</td>\n",
              "      <td>106.217216</td>\n",
              "      <td>498.796862</td>\n",
              "      <td>33.148113</td>\n",
              "      <td>11.765603</td>\n",
              "      <td>61.109706</td>\n",
              "      <td>29.196072</td>\n",
              "      <td>45.175289</td>\n",
              "      <td>657.155514</td>\n",
              "      <td>4.015909</td>\n",
              "      <td>44.376194</td>\n",
              "      <td>58.137833</td>\n",
              "      <td>20.675288</td>\n",
              "    </tr>\n",
              "    <tr>\n",
              "      <th>LJP</th>\n",
              "      <td>NaN</td>\n",
              "      <td>NaN</td>\n",
              "      <td>76.0</td>\n",
              "      <td>1.0</td>\n",
              "      <td>NaN</td>\n",
              "      <td>4.0</td>\n",
              "      <td>3.0</td>\n",
              "      <td>6.0</td>\n",
              "      <td>9.0</td>\n",
              "      <td>2.0</td>\n",
              "      <td>3.0</td>\n",
              "      <td>NaN</td>\n",
              "      <td>2.0</td>\n",
              "      <td>17.0</td>\n",
              "      <td>1.0</td>\n",
              "      <td>NaN</td>\n",
              "      <td>1.0</td>\n",
              "      <td>NaN</td>\n",
              "      <td>NaN</td>\n",
              "      <td>NaN</td>\n",
              "      <td>85.010450</td>\n",
              "      <td>2.481377</td>\n",
              "      <td>NaN</td>\n",
              "      <td>21.613385</td>\n",
              "      <td>7.375946</td>\n",
              "      <td>11.382812</td>\n",
              "      <td>26.868529</td>\n",
              "      <td>1.712452</td>\n",
              "      <td>0.813171</td>\n",
              "      <td>NaN</td>\n",
              "      <td>1.927965</td>\n",
              "      <td>30.737989</td>\n",
              "      <td>0.478933</td>\n",
              "      <td>NaN</td>\n",
              "      <td>1.709409</td>\n",
              "      <td>NaN</td>\n",
              "    </tr>\n",
              "    <tr>\n",
              "      <th>Left Front</th>\n",
              "      <td>NaN</td>\n",
              "      <td>1.0</td>\n",
              "      <td>2.0</td>\n",
              "      <td>NaN</td>\n",
              "      <td>NaN</td>\n",
              "      <td>1.0</td>\n",
              "      <td>NaN</td>\n",
              "      <td>NaN</td>\n",
              "      <td>NaN</td>\n",
              "      <td>18.0</td>\n",
              "      <td>1.0</td>\n",
              "      <td>1.0</td>\n",
              "      <td>NaN</td>\n",
              "      <td>4.0</td>\n",
              "      <td>NaN</td>\n",
              "      <td>1.0</td>\n",
              "      <td>NaN</td>\n",
              "      <td>1.0</td>\n",
              "      <td>NaN</td>\n",
              "      <td>2.298223</td>\n",
              "      <td>0.209586</td>\n",
              "      <td>NaN</td>\n",
              "      <td>NaN</td>\n",
              "      <td>2.291368</td>\n",
              "      <td>NaN</td>\n",
              "      <td>NaN</td>\n",
              "      <td>NaN</td>\n",
              "      <td>44.280864</td>\n",
              "      <td>0.201455</td>\n",
              "      <td>8.309203</td>\n",
              "      <td>NaN</td>\n",
              "      <td>6.740281</td>\n",
              "      <td>NaN</td>\n",
              "      <td>0.877960</td>\n",
              "      <td>NaN</td>\n",
              "      <td>3.020887</td>\n",
              "    </tr>\n",
              "    <tr>\n",
              "      <th>NOTA</th>\n",
              "      <td>NaN</td>\n",
              "      <td>1.0</td>\n",
              "      <td>29.0</td>\n",
              "      <td>1.0</td>\n",
              "      <td>NaN</td>\n",
              "      <td>9.0</td>\n",
              "      <td>7.0</td>\n",
              "      <td>7.0</td>\n",
              "      <td>3.0</td>\n",
              "      <td>5.0</td>\n",
              "      <td>46.0</td>\n",
              "      <td>7.0</td>\n",
              "      <td>11.0</td>\n",
              "      <td>27.0</td>\n",
              "      <td>5.0</td>\n",
              "      <td>4.0</td>\n",
              "      <td>5.0</td>\n",
              "      <td>NaN</td>\n",
              "      <td>NaN</td>\n",
              "      <td>1.061204</td>\n",
              "      <td>12.685435</td>\n",
              "      <td>0.051485</td>\n",
              "      <td>NaN</td>\n",
              "      <td>3.844332</td>\n",
              "      <td>8.645440</td>\n",
              "      <td>12.132362</td>\n",
              "      <td>1.353138</td>\n",
              "      <td>2.863587</td>\n",
              "      <td>35.310377</td>\n",
              "      <td>13.594657</td>\n",
              "      <td>3.676105</td>\n",
              "      <td>20.552066</td>\n",
              "      <td>1.116006</td>\n",
              "      <td>4.502676</td>\n",
              "      <td>1.570309</td>\n",
              "      <td>NaN</td>\n",
              "    </tr>\n",
              "  </tbody>\n",
              "</table>\n",
              "</div>"
            ],
            "text/plain": [
              "             response_id                ...     weight                      \n",
              "Vote_Now             AAP AIMIM     BJP  ...       RLSP  Undecided        VIP\n",
              "Past_Vote                               ...                                 \n",
              "BJP                  7.0   1.0  1630.0  ...  18.715113  41.286954  18.691691\n",
              "BSP                  NaN   1.0     2.0  ...        NaN        NaN        NaN\n",
              "Did not vote         8.0   5.0   231.0  ...   5.041587  22.015457  10.696552\n",
              "HAM                  2.0   NaN    25.0  ...        NaN   0.039564        NaN\n",
              "INC                  NaN   6.0     6.0  ...   1.140299   8.558475        NaN\n",
              "JAP(L)               NaN   NaN     4.0  ...        NaN        NaN        NaN\n",
              "JD(U)                6.0  10.0   254.0  ...  44.376194  58.137833  20.675288\n",
              "LJP                  NaN   NaN    76.0  ...        NaN   1.709409        NaN\n",
              "Left Front           NaN   1.0     2.0  ...   0.877960        NaN   3.020887\n",
              "NOTA                 NaN   1.0    29.0  ...   4.502676   1.570309        NaN\n",
              "\n",
              "[10 rows x 36 columns]"
            ]
          },
          "metadata": {
            "tags": []
          },
          "execution_count": 43
        }
      ]
    },
    {
      "cell_type": "markdown",
      "metadata": {
        "id": "WGZzRpkb8sJ2"
      },
      "source": [
        "**11.Create a dataframe by performing a group by over age_group and calculate the count of total samples under each age_group.**"
      ]
    },
    {
      "cell_type": "code",
      "metadata": {
        "id": "CqdVxmGUkgmf"
      },
      "source": [
        "df = pd.DataFrame(survey)"
      ],
      "execution_count": null,
      "outputs": []
    },
    {
      "cell_type": "code",
      "metadata": {
        "colab": {
          "base_uri": "https://localhost:8080/"
        },
        "id": "CzBYMXyOZTUI",
        "outputId": "860f7c27-2ae1-476a-b532-61e37dfae11b"
      },
      "source": [
        "bins = [18,25,40,55,99]\n",
        "labels = ['18-25','25-40','40-55','55-99']\n",
        "df['Age_group'] = pd.cut(df.age, bins, labels = labels,include_lowest = True)\n",
        "df['Age_group']"
      ],
      "execution_count": null,
      "outputs": [
        {
          "output_type": "execute_result",
          "data": {
            "text/plain": [
              "0       25-40\n",
              "1       25-40\n",
              "2       18-25\n",
              "3       25-40\n",
              "4       18-25\n",
              "        ...  \n",
              "6862    18-25\n",
              "6863    25-40\n",
              "6864    18-25\n",
              "6865    18-25\n",
              "6866    25-40\n",
              "Name: Age_group, Length: 6867, dtype: category\n",
              "Categories (4, object): ['18-25' < '25-40' < '40-55' < '55-99']"
            ]
          },
          "metadata": {
            "tags": []
          },
          "execution_count": 44
        }
      ]
    },
    {
      "cell_type": "code",
      "metadata": {
        "colab": {
          "base_uri": "https://localhost:8080/"
        },
        "id": "lDdttifbZuBY",
        "outputId": "54adab2c-3564-4c09-ee50-7a8cad3e44aa"
      },
      "source": [
        "df['Age_group'].value_counts()"
      ],
      "execution_count": null,
      "outputs": [
        {
          "output_type": "execute_result",
          "data": {
            "text/plain": [
              "25-40    3423\n",
              "18-25    2692\n",
              "40-55     644\n",
              "55-99     108\n",
              "Name: Age_group, dtype: int64"
            ]
          },
          "metadata": {
            "tags": []
          },
          "execution_count": 371
        }
      ]
    },
    {
      "cell_type": "markdown",
      "metadata": {
        "id": "kmQNgGEoa5vV"
      },
      "source": [
        "**12. Create a dataframe by performing a group by over age_group and finding the count of total samples for each age_group that opted for the JD(U) party in Vote_Now.**"
      ]
    },
    {
      "cell_type": "code",
      "metadata": {
        "id": "G-Pb334Wfc_o"
      },
      "source": [
        "df = pd.DataFrame(survey)"
      ],
      "execution_count": null,
      "outputs": []
    },
    {
      "cell_type": "code",
      "metadata": {
        "colab": {
          "base_uri": "https://localhost:8080/",
          "height": 394
        },
        "id": "7lQZg5tqhx4c",
        "outputId": "e2bdb5e5-8b99-47d9-8570-6b67e8630f81"
      },
      "source": [
        "data1 = df[df['Vote_Now'] == 'JD(U)']\n",
        "data1.head(5)"
      ],
      "execution_count": null,
      "outputs": [
        {
          "output_type": "execute_result",
          "data": {
            "text/html": [
              "<div>\n",
              "<style scoped>\n",
              "    .dataframe tbody tr th:only-of-type {\n",
              "        vertical-align: middle;\n",
              "    }\n",
              "\n",
              "    .dataframe tbody tr th {\n",
              "        vertical-align: top;\n",
              "    }\n",
              "\n",
              "    .dataframe thead th {\n",
              "        text-align: right;\n",
              "    }\n",
              "</style>\n",
              "<table border=\"1\" class=\"dataframe\">\n",
              "  <thead>\n",
              "    <tr style=\"text-align: right;\">\n",
              "      <th></th>\n",
              "      <th>response_id</th>\n",
              "      <th>collection_date</th>\n",
              "      <th>urban_rural</th>\n",
              "      <th>education</th>\n",
              "      <th>income</th>\n",
              "      <th>Vote_Now</th>\n",
              "      <th>Past_Vote</th>\n",
              "      <th>CM_satisfaction</th>\n",
              "      <th>MLA_satisfaction</th>\n",
              "      <th>age</th>\n",
              "      <th>gender</th>\n",
              "      <th>assembly_no</th>\n",
              "      <th>category</th>\n",
              "      <th>weight</th>\n",
              "      <th>Age_group</th>\n",
              "    </tr>\n",
              "  </thead>\n",
              "  <tbody>\n",
              "    <tr>\n",
              "      <th>4</th>\n",
              "      <td>5</td>\n",
              "      <td>2020-08-24</td>\n",
              "      <td>Rural</td>\n",
              "      <td>Graduate</td>\n",
              "      <td>₹ 50,000 - ₹ 80,000</td>\n",
              "      <td>JD(U)</td>\n",
              "      <td>Did not vote</td>\n",
              "      <td>Fully Satisfied</td>\n",
              "      <td>Fully Satisfied</td>\n",
              "      <td>22</td>\n",
              "      <td>Male</td>\n",
              "      <td>176</td>\n",
              "      <td>BC</td>\n",
              "      <td>0.333505</td>\n",
              "      <td>18-25</td>\n",
              "    </tr>\n",
              "    <tr>\n",
              "      <th>13</th>\n",
              "      <td>14</td>\n",
              "      <td>2020-08-24</td>\n",
              "      <td>Urban</td>\n",
              "      <td>Graduate</td>\n",
              "      <td>₹ 10,000 - ₹ 20,000</td>\n",
              "      <td>JD(U)</td>\n",
              "      <td>BJP</td>\n",
              "      <td>Somewhat Satisfied</td>\n",
              "      <td>Fully Dissatisfied</td>\n",
              "      <td>29</td>\n",
              "      <td>Male</td>\n",
              "      <td>184</td>\n",
              "      <td>Gen</td>\n",
              "      <td>0.275509</td>\n",
              "      <td>25-40</td>\n",
              "    </tr>\n",
              "    <tr>\n",
              "      <th>28</th>\n",
              "      <td>29</td>\n",
              "      <td>2020-08-24</td>\n",
              "      <td>Rural</td>\n",
              "      <td>Graduate</td>\n",
              "      <td>₹ 20,000 - ₹ 30,000</td>\n",
              "      <td>JD(U)</td>\n",
              "      <td>BJP</td>\n",
              "      <td>Fully Satisfied</td>\n",
              "      <td>Fully Satisfied</td>\n",
              "      <td>44</td>\n",
              "      <td>Male</td>\n",
              "      <td>205</td>\n",
              "      <td>BC</td>\n",
              "      <td>1.337935</td>\n",
              "      <td>40-55</td>\n",
              "    </tr>\n",
              "    <tr>\n",
              "      <th>29</th>\n",
              "      <td>30</td>\n",
              "      <td>2020-08-24</td>\n",
              "      <td>Urban</td>\n",
              "      <td>Professional Education</td>\n",
              "      <td>₹ 1,50,000 &amp; above</td>\n",
              "      <td>JD(U)</td>\n",
              "      <td>JD(U)</td>\n",
              "      <td>Somewhat Dissatisfied</td>\n",
              "      <td>Fully Dissatisfied</td>\n",
              "      <td>26</td>\n",
              "      <td>Male</td>\n",
              "      <td>172</td>\n",
              "      <td>BC</td>\n",
              "      <td>0.405708</td>\n",
              "      <td>25-40</td>\n",
              "    </tr>\n",
              "    <tr>\n",
              "      <th>59</th>\n",
              "      <td>60</td>\n",
              "      <td>2020-08-24</td>\n",
              "      <td>Rural</td>\n",
              "      <td>12th Pass</td>\n",
              "      <td>₹ 5,000 - ₹ 10,000</td>\n",
              "      <td>JD(U)</td>\n",
              "      <td>JD(U)</td>\n",
              "      <td>Fully Satisfied</td>\n",
              "      <td>Fully Dissatisfied</td>\n",
              "      <td>48</td>\n",
              "      <td>Male</td>\n",
              "      <td>171</td>\n",
              "      <td>BC</td>\n",
              "      <td>2.824391</td>\n",
              "      <td>40-55</td>\n",
              "    </tr>\n",
              "  </tbody>\n",
              "</table>\n",
              "</div>"
            ],
            "text/plain": [
              "    response_id collection_date urban_rural  ... category    weight Age_group\n",
              "4             5      2020-08-24       Rural  ...       BC  0.333505     18-25\n",
              "13           14      2020-08-24       Urban  ...      Gen  0.275509     25-40\n",
              "28           29      2020-08-24       Rural  ...       BC  1.337935     40-55\n",
              "29           30      2020-08-24       Urban  ...       BC  0.405708     25-40\n",
              "59           60      2020-08-24       Rural  ...       BC  2.824391     40-55\n",
              "\n",
              "[5 rows x 15 columns]"
            ]
          },
          "metadata": {
            "tags": []
          },
          "execution_count": 45
        }
      ]
    },
    {
      "cell_type": "code",
      "metadata": {
        "colab": {
          "base_uri": "https://localhost:8080/"
        },
        "id": "JVysAC6bbsRj",
        "outputId": "64c0d183-c08c-4e6b-8056-4d0228c81f14"
      },
      "source": [
        "bins = [18,25,40,55,99]\n",
        "labels = ['18-25','25-40','40-55','55-99']\n",
        "data1['Age_group'] = pd.cut(data1.age, bins, labels = labels,include_lowest = True)\n",
        "data1['Age_group']"
      ],
      "execution_count": null,
      "outputs": [
        {
          "output_type": "stream",
          "text": [
            "/usr/local/lib/python3.7/dist-packages/ipykernel_launcher.py:3: SettingWithCopyWarning: \n",
            "A value is trying to be set on a copy of a slice from a DataFrame.\n",
            "Try using .loc[row_indexer,col_indexer] = value instead\n",
            "\n",
            "See the caveats in the documentation: https://pandas.pydata.org/pandas-docs/stable/user_guide/indexing.html#returning-a-view-versus-a-copy\n",
            "  This is separate from the ipykernel package so we can avoid doing imports until\n"
          ],
          "name": "stderr"
        },
        {
          "output_type": "execute_result",
          "data": {
            "text/plain": [
              "4       18-25\n",
              "13      25-40\n",
              "28      40-55\n",
              "29      25-40\n",
              "59      40-55\n",
              "        ...  \n",
              "6769    40-55\n",
              "6787    55-99\n",
              "6829    40-55\n",
              "6843    18-25\n",
              "6862    18-25\n",
              "Name: Age_group, Length: 526, dtype: category\n",
              "Categories (4, object): ['18-25' < '25-40' < '40-55' < '55-99']"
            ]
          },
          "metadata": {
            "tags": []
          },
          "execution_count": 50
        }
      ]
    },
    {
      "cell_type": "code",
      "metadata": {
        "colab": {
          "base_uri": "https://localhost:8080/"
        },
        "id": "7vfObCMbbrfy",
        "outputId": "6cdd52e3-5d82-4975-97d8-4bb4c1cc2851"
      },
      "source": [
        "data1['Age_group'].value_counts()"
      ],
      "execution_count": null,
      "outputs": [
        {
          "output_type": "execute_result",
          "data": {
            "text/plain": [
              "25-40    245\n",
              "18-25    216\n",
              "40-55     55\n",
              "55-99     10\n",
              "Name: Age_group, dtype: int64"
            ]
          },
          "metadata": {
            "tags": []
          },
          "execution_count": 49
        }
      ]
    },
    {
      "cell_type": "markdown",
      "metadata": {
        "id": "HOfJOTsUkBRT"
      },
      "source": [
        "**13.Join/Merge the two dataframes from questions 12 and 11 with the common column as age_group**"
      ]
    },
    {
      "cell_type": "code",
      "metadata": {
        "colab": {
          "base_uri": "https://localhost:8080/"
        },
        "id": "GpBU8vNwkJb8",
        "outputId": "18eb1e1f-6ff3-4492-c277-c34346d030a0"
      },
      "source": [
        "frames = [df['Age_group'],data1['Age_group']]\n",
        "result = pd.concat(frames)\n",
        "result"
      ],
      "execution_count": null,
      "outputs": [
        {
          "output_type": "execute_result",
          "data": {
            "text/plain": [
              "0       25-40\n",
              "1       25-40\n",
              "2       18-25\n",
              "3       25-40\n",
              "4       18-25\n",
              "        ...  \n",
              "6769    40-55\n",
              "6787    55-99\n",
              "6829    40-55\n",
              "6843    18-25\n",
              "6862    18-25\n",
              "Name: Age_group, Length: 7393, dtype: category\n",
              "Categories (4, object): ['18-25' < '25-40' < '40-55' < '55-99']"
            ]
          },
          "metadata": {
            "tags": []
          },
          "execution_count": 48
        }
      ]
    },
    {
      "cell_type": "code",
      "metadata": {
        "colab": {
          "base_uri": "https://localhost:8080/"
        },
        "id": "7S5IsFkzlNip",
        "outputId": "e165eec1-8198-4b8f-8a02-32b634ae1529"
      },
      "source": [
        "result.value_counts()"
      ],
      "execution_count": null,
      "outputs": [
        {
          "output_type": "execute_result",
          "data": {
            "text/plain": [
              "25-40    3668\n",
              "18-25    2908\n",
              "40-55     699\n",
              "55-99     118\n",
              "Name: Age_group, dtype: int64"
            ]
          },
          "metadata": {
            "tags": []
          },
          "execution_count": 51
        }
      ]
    }
  ]
}